{
 "cells": [
  {
   "cell_type": "code",
   "execution_count": 31,
   "metadata": {
    "colab": {},
    "colab_type": "code",
    "id": "PXlcovL5Ln3X"
   },
   "outputs": [],
   "source": [
    "import torch\n",
    "from torch.nn import functional\n",
    "import numpy as np\n",
    "from PIL import Image\n",
    "import matplotlib.pyplot as plt"
   ]
  },
  {
   "cell_type": "markdown",
   "metadata": {
    "colab_type": "text",
    "id": "yULicXEnLn3g"
   },
   "source": [
    "### Exercise 1. Convolution with different kernels\n",
    "\n",
    "Convolution is a common operation in image processing. It can be applied in image blurring, sharpening, edge detection, and more. In this question, your task is to apply the following kernels to images using PyTorch's `conv` function."
   ]
  },
  {
   "cell_type": "code",
   "execution_count": 32,
   "metadata": {
    "colab": {},
    "colab_type": "code",
    "id": "mdm0MorDLn3d"
   },
   "outputs": [],
   "source": [
    "\"\"\"\n",
    "  using torch's 2d convolution function\n",
    "\n",
    "     conv2d(input, kernel, padding) → numpy.array\n",
    "\n",
    "  * input  - input images of shape (image_height, image_width)\n",
    "  * kernel - kernels of shape (kernel_height, kernel_width)\n",
    "  * padding - implicit paddings on both sides of the input. can be a single number or a tuple (pad_height, pad_width)\n",
    "\n",
    "\"\"\"\n",
    "\n",
    "conv2d = lambda im, kr, pad=0: functional.conv2d(torch.tensor(im[None, None]), \n",
    "                                                 torch.tensor(kr[None, None]),\n",
    "                                                 padding=pad).numpy().squeeze()"
   ]
  },
  {
   "cell_type": "markdown",
   "metadata": {
    "colab_type": "text",
    "id": "ICcphbRoftg3"
   },
   "source": [
    "For reference, please see https://pytorch.org/docs/stable/nn.functional.html?highlight=functional.con#torch.nn.functional.conv2d. Note that the torch implementation is the valid cross-correlation operator. \n",
    "\n",
    "It might appear quite cumbersome to use torch's convolution here (and it is). However, it will become clear later what the benefits are."
   ]
  },
  {
   "cell_type": "markdown",
   "metadata": {
    "colab_type": "text",
    "id": "uPTj6fMQftg4"
   },
   "source": [
    "__Apply the following 3x3 kernel to an image in which only a single pixel is active. What is the effect of this kernel? Explain your finding in words.__\n",
    "\n",
    "$$ kernel = \\left(\\begin{matrix}\n",
    "          1 & 0 & 0\\\\\n",
    "          1 & 0 & 0\\\\\n",
    "          1 & 1 & 0\n",
    "       \\end{matrix} \\right)$$"
   ]
  },
  {
   "cell_type": "code",
   "execution_count": 33,
   "metadata": {
    "colab": {},
    "colab_type": "code",
    "id": "DxDt-ykYUdSy"
   },
   "outputs": [
    {
     "data": {
      "image/png": "[encoded data removed]",
      "text/plain": [
       "<Figure size 432x288 with 1 Axes>"
      ]
     },
     "metadata": {
      "needs_background": "light"
     },
     "output_type": "display_data"
    },
    {
     "data": {
      "image/png": "[encoded data removed]",
      "text/plain": [
       "<Figure size 432x288 with 1 Axes>"
      ]
     },
     "metadata": {
      "needs_background": "light"
     },
     "output_type": "display_data"
    }
   ],
   "source": [
    "%matplotlib inline\n",
    "\n",
    "img1 = np.array([[0,0,0,0,0,0,0,0,0],\n",
    "                 [0,0,0,0,0,0,0,0,0],\n",
    "                 [0,0,0,0,0,0,0,0,0],\n",
    "                 [0,0,1,0,0,0,0,0,0],\n",
    "                 [0,0,0,0,0,0,0,0,0],\n",
    "                 [0,0,0,0,0,0,0,0,0],\n",
    "                 [0,0,0,0,0,0,0,0,0],\n",
    "                 [0,0,0,0,0,0,0,0,0],\n",
    "                 [0,0,0,0,0,0,0,0,0]])\n",
    "\n",
    "kernel1 = np.array([[1,0,0],\n",
    "\t                [1,0,0],\n",
    "\t                [1,1,0]])\n",
    "\n",
    "plt.imshow(img1, cmap=\"Greys_r\")\n",
    "plt.title(\"input image\")\n",
    "plt.show()\n",
    "\n",
    "plt.imshow(conv2d(img1, kernel1), cmap=\"Greys_r\")\n",
    "plt.title(\"output image\")\n",
    "plt.show()"
   ]
  },
  {
   "cell_type": "markdown",
   "metadata": {
    "colab_type": "text",
    "id": "bzYPMr4wcL0p"
   },
   "source": [
    "```\n",
    "Your answer:It lightens up a few more pixels near the already lit pixel. Those pixels are the ones corresponding to 1s in the output after convolution operation.\n",
    "```"
   ]
  },
  {
   "cell_type": "markdown",
   "metadata": {
    "colab_type": "text",
    "id": "iWsJP8YvZxET"
   },
   "source": [
    "__Apply the following 3x3 kernel to an image containing a step change in brightness. What is the effect of this kernel? Explain your finding in words.__\n",
    "\n",
    "$$ kernel = \\left(\\begin{matrix}\n",
    "          -1 & -1 & -1\\\\\n",
    "          -1 & 8 & -1\\\\\n",
    "          -1 & -1 & -1\n",
    "       \\end{matrix} \\right)$$"
   ]
  },
  {
   "cell_type": "code",
   "execution_count": 34,
   "metadata": {
    "colab": {},
    "colab_type": "code",
    "id": "QNMRlk0YaVWd"
   },
   "outputs": [
    {
     "data": {
      "image/png": "[encoded data removed]",
      "text/plain": [
       "<Figure size 432x288 with 1 Axes>"
      ]
     },
     "metadata": {
      "needs_background": "light"
     },
     "output_type": "display_data"
    },
    {
     "data": {
      "image/png": "[encoded data removed]",
      "text/plain": [
       "<Figure size 432x288 with 1 Axes>"
      ]
     },
     "metadata": {
      "needs_background": "light"
     },
     "output_type": "display_data"
    }
   ],
   "source": [
    "img2 =np.array([[0,0,0,0,0,1,1,1,1,1],\n",
    "                [0,0,0,0,0,1,1,1,1,1],\n",
    "                [0,0,0,0,0,1,1,1,1,1],\n",
    "                [0,0,0,0,0,1,1,1,1,1],\n",
    "                [0,0,0,0,0,1,1,1,1,1],\n",
    "                [0,0,0,0,0,1,1,1,1,1],\n",
    "                [0,0,0,0,0,1,1,1,1,1],\n",
    "                [0,0,0,0,0,1,1,1,1,1],\n",
    "                [0,0,0,0,0,1,1,1,1,1]])\n",
    "\n",
    "kernel2 = np.array([[-1,-1,-1],\n",
    "\t                  [-1, 8,-1],\n",
    "\t                  [-1,-1,-1]])\n",
    "\n",
    "plt.imshow(img2, cmap=\"Greys_r\")\n",
    "plt.title(\"input image\")\n",
    "plt.show()\n",
    "\n",
    "plt.imshow(conv2d(img2, kernel2), cmap=\"Greys_r\")\n",
    "plt.title(\"output image\")\n",
    "plt.show()"
   ]
  },
  {
   "cell_type": "markdown",
   "metadata": {
    "colab_type": "text",
    "id": "1KumehIbcZL9"
   },
   "source": [
    "```\n",
    "Your answer:It looks like a vertical edge detector.Central part of output shows transistion from dark to light or smaller to larger values in pixels.\n",
    "```"
   ]
  },
  {
   "cell_type": "markdown",
   "metadata": {
    "colab_type": "text",
    "id": "nOI_7WKGLn3l"
   },
   "source": [
    "### Exercise 2. Apply convolution with different kinds of padding\n",
    "\n",
    "Do you notice the size of the output image is different from the input size in the previous examples? Why does that happen?"
   ]
  },
  {
   "cell_type": "markdown",
   "metadata": {
    "colab_type": "text",
    "id": "8q-DvXrleIKb"
   },
   "source": [
    "```\n",
    "Your answer:This happens because the size of kernel is 3x3. Number of times the kernal matrix can hop in vertical and horizontal direction while staying inside the boundary of the input during convolution operation is less than the height and width of the input.\n",
    "```"
   ]
  },
  {
   "cell_type": "markdown",
   "metadata": {
    "colab_type": "text",
    "id": "XwSlzvOxiqJx"
   },
   "source": [
    "The 2d convolution operators illustrated in excercise 1 are called \"valid\" convolution. PyTorch use this padding scheme by default. There are three different kinds of padding \"valid\", \"same\", \"full\", which give you different output sizes. Scipy's documentary gives a good description of the three types: https://docs.scipy.org/doc/numpy-1.13.0/reference/generated/numpy.convolve.html\n",
    "\n",
    "Now let's run the following code for \"padding same\" and \"padding full\" convolution using PyTorch's `conv` function. What are the output sizes? What do you find on border pixel and interior pixels? "
   ]
  },
  {
   "cell_type": "code",
   "execution_count": 35,
   "metadata": {
    "colab": {},
    "colab_type": "code",
    "id": "RqNNoptJLn3m"
   },
   "outputs": [
    {
     "data": {
      "image/png": "[encoded data removed]",
      "text/plain": [
       "<Figure size 432x288 with 1 Axes>"
      ]
     },
     "metadata": {
      "needs_background": "light"
     },
     "output_type": "display_data"
    },
    {
     "data": {
      "image/png": "[encoded data removed]",
      "text/plain": [
       "<Figure size 432x288 with 1 Axes>"
      ]
     },
     "metadata": {
      "needs_background": "light"
     },
     "output_type": "display_data"
    },
    {
     "data": {
      "image/png": "[encoded data removed]",
      "text/plain": [
       "<Figure size 432x288 with 1 Axes>"
      ]
     },
     "metadata": {
      "needs_background": "light"
     },
     "output_type": "display_data"
    }
   ],
   "source": [
    " \"\"\"\n",
    "     conv2d(input, kernel, padding) → numpy.array\n",
    "     \n",
    "  * paddding - implicit paddings on both sides of the input. can be a single number or a tuple (pad_height, pad_width)\n",
    "\n",
    "\"\"\"\n",
    "plt.imshow(img2, cmap=\"Greys_r\")\n",
    "plt.title(\"input image\")\n",
    "plt.show()\n",
    "\n",
    "plt.imshow(conv2d(img2, kernel2, 1), cmap=\"Greys_r\")\n",
    "plt.title(\"output image - padding same\")\n",
    "plt.show()\n",
    "\n",
    "plt.imshow(conv2d(img2, kernel2, 2), cmap=\"Greys_r\")\n",
    "plt.title(\"output image - padding full\")\n",
    "plt.show()"
   ]
  },
  {
   "cell_type": "markdown",
   "metadata": {
    "colab_type": "text",
    "id": "cK-PkYljlk_V"
   },
   "source": [
    "```\n",
    "Your answer:Output size of padding 'same' is (9,10) and output size of padding 'full' is (11,12). There are some disturbances in the border region because of padding and no such disturbance is observed in interior pixels.\n",
    "```"
   ]
  },
  {
   "cell_type": "markdown",
   "metadata": {
    "colab_type": "text",
    "id": "RWGyNKgilpEe"
   },
   "source": [
    "In general, if the kernel size is $n\\times m$, what is the `padding` parameter for \"padding full\"? What is the `padding` parameter for \"padding same\""
   ]
  },
  {
   "cell_type": "markdown",
   "metadata": {
    "colab_type": "text",
    "id": "5ptUq6jBm38r"
   },
   "source": [
    "```\n",
    "Your answer:Padding parameter for padding 'full' is ((n+1)/2, (m+1)/2). Padding parameter for padding 'same' is ((n-1)/2, (m-1)/2).\n",
    "```"
   ]
  },
  {
   "cell_type": "markdown",
   "metadata": {
    "colab_type": "text",
    "id": "DIdzieXufthD"
   },
   "source": [
    "### Exercise 3. Iterating over feature maps (channels) and batches. \n",
    "\n",
    "Making use of our 2D convolution `conv2d`, implement a convolution of all feature maps in a batch. This resembles a full convolutional layer (without biases). Before you start, take a close look at what each dimension means and what shape the output will be."
   ]
  },
  {
   "cell_type": "code",
   "execution_count": 36,
   "metadata": {
    "colab": {},
    "colab_type": "code",
    "id": "aVt0WJtJfthE"
   },
   "outputs": [
    {
     "data": {
      "text/plain": [
       "(10, 3, 17, 13)"
      ]
     },
     "execution_count": 36,
     "metadata": {},
     "output_type": "execute_result"
    }
   ],
   "source": [
    "# [minibatch, in_channels, image_height, image_width]\n",
    "img = np.random.rand(10, 5, 21, 19) \n",
    "\n",
    "# [out_channels, in_channels, kernel_height, kernel_width]\n",
    "kernel = np.random.rand(3, 5, 5, 7)\n",
    "\n",
    "desired = functional.conv2d(torch.tensor(img), torch.tensor(kernel)).numpy().squeeze()\n",
    "\n",
    "# [minibatch, out_channels, image_height, image_width]\n",
    "desired.shape"
   ]
  },
  {
   "cell_type": "markdown",
   "metadata": {
    "colab_type": "text",
    "id": "k6fuuP3RrLL2"
   },
   "source": [
    "__Fill in the missing parts (??) of the following code:__"
   ]
  },
  {
   "cell_type": "code",
   "execution_count": 37,
   "metadata": {
    "colab": {},
    "colab_type": "code",
    "id": "jzFDtxllfthD"
   },
   "outputs": [],
   "source": [
    "\"\"\"\n",
    "`conv2d_stack` - 2D \"valid\" convolution looping over minibatches and channels\n",
    "\n",
    "    r = conv2d(input, kernel) → numpy.array\n",
    "\n",
    "  * input  - input images of shape (minibach, in_channels, image_height, image_width)\n",
    "  * kernel - kernels of shape (out_channels, in_channels, kernel_height, kernel_width)\n",
    "\n",
    "  * r - output images of shape (minibach, out_channels, out_image_height, out_image_width)\n",
    "\"\"\"\n",
    "\n",
    "########## fill in the missing parts (??) of the following code ############\n",
    "\n",
    "def conv2d_stack(im, kr):  \n",
    "    batchsize, n_feature_in, ih, iw = im.shape\n",
    "    n_feature_out, _, kh, kw = kr.shape\n",
    "    \n",
    "    r = np.zeros((batchsize, n_feature_out, ih-kh+1, iw-kw+1))\n",
    "    for i in range(batchsize):\n",
    "        for j in range(n_feature_in):\n",
    "            for k in range(n_feature_out):\n",
    "                r[i, k] += conv2d(im[i, j], kr[k ,j])\n",
    "\n",
    "    return r\n",
    "\n",
    "##############################################################################"
   ]
  },
  {
   "cell_type": "markdown",
   "metadata": {
    "colab_type": "text",
    "id": "8XwyPueBrC5j"
   },
   "source": [
    "The output of the following should be true, if your code is correct."
   ]
  },
  {
   "cell_type": "code",
   "execution_count": 38,
   "metadata": {
    "colab": {},
    "colab_type": "code",
    "id": "BxR-VMmbfthH"
   },
   "outputs": [
    {
     "data": {
      "text/plain": [
       "True"
      ]
     },
     "execution_count": 38,
     "metadata": {},
     "output_type": "execute_result"
    }
   ],
   "source": [
    "np.isclose(conv2d_stack(img, kernel), desired).all()"
   ]
  },
  {
   "cell_type": "markdown",
   "metadata": {
    "colab_type": "text",
    "id": "rJrsi0wKfthI"
   },
   "source": [
    "PyTorch's conv2d takes care of all of this. While you will probably never write out all these for loops again, appreciate what torch (or any other library) is doing in the background in a fraction of the time. Run this timing example to see the speedup yourself:"
   ]
  },
  {
   "cell_type": "code",
   "execution_count": 43,
   "metadata": {
    "colab": {},
    "colab_type": "code",
    "id": "WnYTlKDPfthI"
   },
   "outputs": [
    {
     "name": "stdout",
     "output_type": "stream",
     "text": [
      "CPU times: user 57.8 ms, sys: 3.4 ms, total: 61.2 ms\n",
      "Wall time: 16.3 ms\n",
      "CPU times: user 916 ms, sys: 10.2 ms, total: 926 ms\n",
      "Wall time: 401 ms\n"
     ]
    }
   ],
   "source": [
    "# [batch, feature map, x, y]\n",
    "img = np.random.rand(40, 20, 21, 21) \n",
    "\n",
    "# [feature map out, feature map in, x, y]\n",
    "kernel = np.random.rand(10, 20, 5, 5)\n",
    "\n",
    "%time desired = functional.conv2d(torch.tensor(img), torch.tensor(kernel)).numpy().squeeze()\n",
    "%time r = conv2d_stack(img, kernel)"
   ]
  },
  {
   "cell_type": "markdown",
   "metadata": {
    "colab_type": "text",
    "id": "EsnGfCUIxNYN"
   },
   "source": [
    "When you implement your own neural network architectures, you can use PyTorch's convolutional layer `nn.Conv2d()` which encapsulate the `nn.functional.conv2d()` function. You will encounter this in the [LeNet](https://colab.research.google.com/drive/1Neif4TvzrHj9NUEaoZS2Y24HX5tVZFxo) notebook."
   ]
  },
  {
   "cell_type": "code",
   "execution_count": null,
   "metadata": {},
   "outputs": [],
   "source": []
  }
 ],
 "metadata": {
  "colab": {
   "collapsed_sections": [],
   "name": "ConvolutionBasics.ipynb",
   "provenance": []
  },
  "kernelspec": {
   "display_name": "Python 3",
   "language": "python",
   "name": "python3"
  },
  "language_info": {
   "codemirror_mode": {
    "name": "ipython",
    "version": 3
   },
   "file_extension": ".py",
   "mimetype": "text/x-python",
   "name": "python",
   "nbconvert_exporter": "python",
   "pygments_lexer": "ipython3",
   "version": "3.7.6"
  }
 },
 "nbformat": 4,
 "nbformat_minor": 4
}
